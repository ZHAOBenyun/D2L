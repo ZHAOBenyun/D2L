{
 "cells": [
  {
   "cell_type": "code",
   "execution_count": null,
   "id": "a68ed3c6",
   "metadata": {},
   "outputs": [],
   "source": [
    "import torch \n",
    "from torch import nn\n",
    "from d2l import torch as d2l"
   ]
  },
  {
   "cell_type": "markdown",
   "id": "46a57778",
   "metadata": {},
   "source": [
    "### Realize the LeNet"
   ]
  },
  {
   "cell_type": "code",
   "execution_count": null,
   "id": "6f36f450",
   "metadata": {},
   "outputs": [],
   "source": [
    "class Reshape(torch.nn.Module):\n",
    "    def forward(self, X):\n",
    "        return X.view(-1, 1, 28, 28)   # .view = .reshape\n",
    "# In LeNet, the size of img is 32, so we use padding=2 in the network model"
   ]
  },
  {
   "cell_type": "code",
   "execution_count": null,
   "id": "d37041e6",
   "metadata": {},
   "outputs": [],
   "source": [
    "net = torch.nn.Sequential(\n",
    "    Reshape(), nn.Conv2d(1, 6, kernel_size=5, padding=2), nn.Sigmoid(),\n",
    "    nn.AvgPool2d(kernel_size=2, stride=2), \n",
    "    nn.Conv2d(6, 16, kernel_size=5), nn.Sigmoid(),\n",
    "    nn.AvgPool2d(kernel_size=2, stride=2), nn.Flatten(),\n",
    "    nn.Linear(16 * 5 * 5, 120), nn.Sigmoid(),\n",
    "    nn.Linear(120, 84), nn.Sigmoid(),\n",
    "    nn.Linear(84, 10)\n",
    "    )\n",
    "# nn.Sigmoid() = activation function\n",
    "# nn.Linear(16 * 5 * 5, 120) means the input size should be calculated manually"
   ]
  },
  {
   "cell_type": "markdown",
   "id": "dfe15723",
   "metadata": {},
   "source": [
    "### Check the Model Manually"
   ]
  },
  {
   "cell_type": "code",
   "execution_count": null,
   "id": "89ca4ed3",
   "metadata": {},
   "outputs": [],
   "source": [
    "X = torch.rand(size=(1, 1, 28, 28), dtype=torch.float32)\n",
    "for layer in net:\n",
    "    X = layer(X)\n",
    "    print(layer.__class__.__name__, 'output shape: \\t', X.shape)"
   ]
  },
  {
   "cell_type": "markdown",
   "id": "be96498d",
   "metadata": {},
   "source": [
    "### Test the LeNet on Fashion_Mnist dataset"
   ]
  },
  {
   "cell_type": "code",
   "execution_count": null,
   "id": "047be606",
   "metadata": {
    "scrolled": true
   },
   "outputs": [],
   "source": [
    "batch_size = 128\n",
    "train_iter, test_iter = d2l.load_data_fashion_mnist(batch_size=batch_size)"
   ]
  },
  {
   "cell_type": "code",
   "execution_count": null,
   "id": "bfece9b0",
   "metadata": {},
   "outputs": [],
   "source": [
    "def evaluate_accuracy_gpu(met, data_iter, device=None):\n",
    "    if isinstance(net, torch.nn.Module):\n",
    "        net.eval()\n",
    "        if not device:\n",
    "            device = next(iter(net.parameters())).device\n",
    "            # check which device is the network model saved, and use this device\n",
    "    metric = d2l.Accumulator(2)\n",
    "    for X, y in data_iter:      # move the data_iter into the device we will train\n",
    "        if isinstance(X, list):\n",
    "            X = [x.to(device) for x in X]      # if X is a list, move data in X to the device one by one\n",
    "        else:\n",
    "            X = X.to(device)                   # if X is a tensor, just move once\n",
    "        y = y.to(device)                       # move Y to device\n",
    "        metric.add(d2l.accuracy(net(X), y), y.numel())\n",
    "    return metric[0] / metric[1]"
   ]
  },
  {
   "cell_type": "code",
   "execution_count": null,
   "id": "eafb3114",
   "metadata": {},
   "outputs": [],
   "source": [
    "def train_ch6(net, train_iter, test_iter, num_epochs, lr, device):\n",
    "    def init_weights(m):\n",
    "        if type(m) == nn.Linear or type(m) == nn.Conv2d:\n",
    "            nn.init.xavier_uniform_(m.weight)           # xavier initialize the weights\n",
    "    net.apply(init_weights)                             # run this function on all parameters\n",
    "    \n",
    "    print('training on', device)\n",
    "    net.to(device)\n",
    "    optimizer = torch.optim.SGD(net.parameters(), lr=lr)\n",
    "    loss = nn.CrossEntropyLoss()\n",
    "    animator = d2l.Animator(xlabel='epoch', xlim=[1, num_epochs], legend=['train loss', 'train acc', 'test acc'])\n",
    "    timer, num_batches = d2l.Timer(), len(train_iter)\n",
    "    \n",
    "    for epoch in range(num_epochs):\n",
    "        metric = d2l.Accumulator(3)               # create a 3D accumulator\n",
    "        net.train()\n",
    "        for i, (X, y) in enumerate(train_iter):  # iterate the dataset\n",
    "            timer.start()\n",
    "            optimizer.zero_grad()\n",
    "            X, y = X.to(device), y.to(device)     # move X, y to GPU\n",
    "            y_hat = net(X)\n",
    "            l = loss(y_hat, y)\n",
    "            l.backward()\n",
    "            optimizer.step()\n",
    "            metric.add(l * X.shape[0], d2l.accuracy(y_hat, y), X.shape[0])\n",
    "            timer.stop()\n",
    "            train_l = metric[0] / metric[2]\n",
    "            train_acc = metric[1] / metric[2]\n",
    "            if (i + 1) % (num_batches // 5) == 0 or i == num_batches - 1:\n",
    "                animator.add(epoch + (i + 1) / num_batches, (train_l, train_acc, None))\n",
    "            test_acc = evaluate_accuracy_gpu(net, test_iter)\n",
    "            animator.add(epoch + 1, (None, None, test_acc))\n",
    "    print(f'loss {train_l:.3f}, train acc {train_acc:.3f}, '\n",
    "          f'test acc {test_acc:.3f}')\n",
    "    print(f'{metric[2] * num_epochs / timer.sum():.1f} examples/sec '\n",
    "          f'on {str(device)}')"
   ]
  },
  {
   "cell_type": "code",
   "execution_count": null,
   "id": "0f9ebf1a",
   "metadata": {},
   "outputs": [],
   "source": [
    "lr, num_epochs = 0.8, 10\n",
    "train_ch6(net, train_iter, test_iter, num_epochs, lr, d2l.try_gpu())"
   ]
  },
  {
   "cell_type": "code",
   "execution_count": null,
   "id": "4737876c",
   "metadata": {},
   "outputs": [],
   "source": []
  }
 ],
 "metadata": {
  "kernelspec": {
   "display_name": "Python 3",
   "language": "python",
   "name": "python3"
  },
  "language_info": {
   "codemirror_mode": {
    "name": "ipython",
    "version": 3
   },
   "file_extension": ".py",
   "mimetype": "text/x-python",
   "name": "python",
   "nbconvert_exporter": "python",
   "pygments_lexer": "ipython3",
   "version": "3.6.13"
  }
 },
 "nbformat": 4,
 "nbformat_minor": 5
}
