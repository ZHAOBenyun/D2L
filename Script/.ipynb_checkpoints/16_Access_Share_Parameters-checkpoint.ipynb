{
 "cells": [
  {
   "cell_type": "code",
   "execution_count": 1,
   "id": "1b12557e",
   "metadata": {},
   "outputs": [
    {
     "data": {
      "text/plain": [
       "tensor([[0.3482],\n",
       "        [0.2777]], grad_fn=<AddmmBackward>)"
      ]
     },
     "execution_count": 1,
     "metadata": {},
     "output_type": "execute_result"
    }
   ],
   "source": [
    "import torch \n",
    "from torch import nn"
   ]
  },
  {
   "cell_type": "code",
   "execution_count": 2,
   "id": "ef484906",
   "metadata": {},
   "outputs": [
    {
     "data": {
      "text/plain": [
       "tensor([[-0.1978],\n",
       "        [-0.2264]], grad_fn=<AddmmBackward>)"
      ]
     },
     "execution_count": 2,
     "metadata": {},
     "output_type": "execute_result"
    }
   ],
   "source": [
    "net = nn.Sequential(nn.Linear(4, 8), nn.ReLU(), nn.Linear(8, 1))\n",
    "X = torch.rand(size=(2, 4))\n",
    "net(X)"
   ]
  },
  {
   "cell_type": "markdown",
   "id": "5e199e69",
   "metadata": {},
   "source": [
    "### Access the Parameter"
   ]
  },
  {
   "cell_type": "code",
   "execution_count": 3,
   "id": "395f0084",
   "metadata": {},
   "outputs": [
    {
     "name": "stdout",
     "output_type": "stream",
     "text": [
      "OrderedDict([('weight', tensor([[-0.1556, -0.2921, -0.1292, -0.1691,  0.0722,  0.1749, -0.0843,  0.2200]])), ('bias', tensor([-0.2801]))])\n"
     ]
    }
   ],
   "source": [
    "print(net[2].state_dict())\n",
    "# net[2] = nn.Linear(8,1)\n",
    "# .state_dict() = ._modules (a special container in PyTorch which is an ordered dictionary)"
   ]
  },
  {
   "cell_type": "code",
   "execution_count": 9,
   "id": "4c76515a",
   "metadata": {
    "scrolled": true
   },
   "outputs": [
    {
     "name": "stdout",
     "output_type": "stream",
     "text": [
      "<class 'torch.nn.parameter.Parameter'>\n"
     ]
    }
   ],
   "source": [
    "print(type(net[2].bias))\n",
    "# torch.nn.parameter.Parameter especially .Parameter means this values can be optimized"
   ]
  },
  {
   "cell_type": "code",
   "execution_count": 6,
   "id": "0078fea0",
   "metadata": {
    "scrolled": true
   },
   "outputs": [
    {
     "name": "stdout",
     "output_type": "stream",
     "text": [
      "Parameter containing:\n",
      "tensor([-0.2801], requires_grad=True)\n"
     ]
    }
   ],
   "source": [
    "print(net[2].bias)"
   ]
  },
  {
   "cell_type": "code",
   "execution_count": 14,
   "id": "bd2e0f12",
   "metadata": {},
   "outputs": [
    {
     "name": "stdout",
     "output_type": "stream",
     "text": [
      "tensor([-0.2801])\n"
     ]
    }
   ],
   "source": [
    "print(net[2].bias.data)  # .data can access the value of it"
   ]
  },
  {
   "cell_type": "code",
   "execution_count": 15,
   "id": "7dc11c1f",
   "metadata": {},
   "outputs": [
    {
     "data": {
      "text/plain": [
       "True"
      ]
     },
     "execution_count": 15,
     "metadata": {},
     "output_type": "execute_result"
    }
   ],
   "source": [
    "net[2].weight.grad == None # .grad means access the gradient of it"
   ]
  },
  {
   "cell_type": "markdown",
   "id": "07eb17b7",
   "metadata": {},
   "source": [
    "### Access All Data at One Time"
   ]
  },
  {
   "cell_type": "code",
   "execution_count": 33,
   "id": "675c4cb7",
   "metadata": {},
   "outputs": [
    {
     "name": "stdout",
     "output_type": "stream",
     "text": [
      "('weight', torch.Size([8, 4])) ('bias', torch.Size([8]))\n",
      "('0.weight', torch.Size([8, 4])) ('0.bias', torch.Size([8])) ('2.weight', torch.Size([1, 8])) ('2.bias', torch.Size([1]))\n"
     ]
    }
   ],
   "source": [
    "print(*[(name, param.shape) for name, param in net[0].named_parameters()])  #   * is Python grammar means to unzip the package\n",
    "print(*[(name, param.shape) for name, param in net.named_parameters()]) \n",
    "# layer 0 is the first Linear; layer 1 is the ReLU; layer 2 is the second Linear"
   ]
  },
  {
   "cell_type": "code",
   "execution_count": 19,
   "id": "27034a4b",
   "metadata": {
    "scrolled": true
   },
   "outputs": [
    {
     "data": {
      "text/plain": [
       "tensor([-0.2801])"
      ]
     },
     "execution_count": 19,
     "metadata": {},
     "output_type": "execute_result"
    }
   ],
   "source": [
    "net.state_dict()['2.bias'].data  # access the values through their names"
   ]
  },
  {
   "cell_type": "markdown",
   "id": "1e2db8ff",
   "metadata": {},
   "source": [
    "### Nested Module Parameters"
   ]
  },
  {
   "cell_type": "code",
   "execution_count": 31,
   "id": "cc69bd95",
   "metadata": {},
   "outputs": [
    {
     "name": "stdout",
     "output_type": "stream",
     "text": [
      "('block 0.0.weight', torch.Size([8, 4])) ('block 0.0.bias', torch.Size([8])) ('block 0.2.weight', torch.Size([4, 8])) ('block 0.2.bias', torch.Size([4])) ('block 1.0.weight', torch.Size([8, 4])) ('block 1.0.bias', torch.Size([8])) ('block 1.2.weight', torch.Size([4, 8])) ('block 1.2.bias', torch.Size([4])) ('block 2.0.weight', torch.Size([8, 4])) ('block 2.0.bias', torch.Size([8])) ('block 2.2.weight', torch.Size([4, 8])) ('block 2.2.bias', torch.Size([4])) ('block 3.0.weight', torch.Size([8, 4])) ('block 3.0.bias', torch.Size([8])) ('block 3.2.weight', torch.Size([4, 8])) ('block 3.2.bias', torch.Size([4]))\n"
     ]
    },
    {
     "data": {
      "text/plain": [
       "tensor([[0.3771],\n",
       "        [0.3771]], grad_fn=<AddmmBackward>)"
      ]
     },
     "execution_count": 31,
     "metadata": {},
     "output_type": "execute_result"
    }
   ],
   "source": [
    "def block1():\n",
    "    return nn.Sequential(nn.Linear(4, 8), nn.ReLU(), nn.Linear(8, 4), nn.ReLU())\n",
    "\n",
    "def block2():\n",
    "    net = nn.Sequential()\n",
    "    for i in range(4):\n",
    "        net.add_module(f'block {i}', block1())  # add 4 block1 into block2 with the name we defined\n",
    "    print(*[(name, param.shape) for name, param in net.named_parameters()])\n",
    "    return net\n",
    "\n",
    "rgnet = nn.Sequential(block2(), nn.Linear(4, 1))\n",
    "rgnet(X)"
   ]
  },
  {
   "cell_type": "code",
   "execution_count": 32,
   "id": "deee9661",
   "metadata": {},
   "outputs": [
    {
     "name": "stdout",
     "output_type": "stream",
     "text": [
      "Sequential(\n",
      "  (0): Sequential(\n",
      "    (block 0): Sequential(\n",
      "      (0): Linear(in_features=4, out_features=8, bias=True)\n",
      "      (1): ReLU()\n",
      "      (2): Linear(in_features=8, out_features=4, bias=True)\n",
      "      (3): ReLU()\n",
      "    )\n",
      "    (block 1): Sequential(\n",
      "      (0): Linear(in_features=4, out_features=8, bias=True)\n",
      "      (1): ReLU()\n",
      "      (2): Linear(in_features=8, out_features=4, bias=True)\n",
      "      (3): ReLU()\n",
      "    )\n",
      "    (block 2): Sequential(\n",
      "      (0): Linear(in_features=4, out_features=8, bias=True)\n",
      "      (1): ReLU()\n",
      "      (2): Linear(in_features=8, out_features=4, bias=True)\n",
      "      (3): ReLU()\n",
      "    )\n",
      "    (block 3): Sequential(\n",
      "      (0): Linear(in_features=4, out_features=8, bias=True)\n",
      "      (1): ReLU()\n",
      "      (2): Linear(in_features=8, out_features=4, bias=True)\n",
      "      (3): ReLU()\n",
      "    )\n",
      "  )\n",
      "  (1): Linear(in_features=4, out_features=1, bias=True)\n",
      ")\n"
     ]
    }
   ],
   "source": [
    "print(rgnet)\n",
    "# first Sequential means this 'rgnet' is a Sequential\n",
    "# second Sequential means block2 is a Sequential\n",
    "# third Sequential is the first block1 and it is a Sequential as well\n",
    "# the last Linear means this 'rgnet' has a nn.Linear(4,1)"
   ]
  },
  {
   "cell_type": "markdown",
   "id": "aecbda82",
   "metadata": {},
   "source": [
    "### Modify the Initial Parameters"
   ]
  },
  {
   "cell_type": "markdown",
   "id": "c33cb624",
   "metadata": {},
   "source": [
    "##### In PyTorch, In-place operation means that when you change a tensor, \n",
    "##### you do not have to copy it, you just change it in the original memory.  \n",
    "##### Like  .normal_  .add_  .zeros_"
   ]
  },
  {
   "cell_type": "code",
   "execution_count": 34,
   "id": "ad279187",
   "metadata": {},
   "outputs": [
    {
     "data": {
      "text/plain": [
       "(tensor([ 0.0072, -0.0211,  0.0028, -0.0018]), tensor(0.))"
      ]
     },
     "execution_count": 34,
     "metadata": {},
     "output_type": "execute_result"
    }
   ],
   "source": [
    "def init_normal(m):\n",
    "    if type(m) == nn.Linear:\n",
    "        nn.init.normal_(m.weight, mean=0, std=0.01)\n",
    "        nn.init.zeros_(m.bias)\n",
    "        \n",
    "net.apply(init_normal)   # .apply = for loop \n",
    "# This init_normal function is called for all modules in net\n",
    "net[0].weight.data[0], net[0].bias.data[0]"
   ]
  },
  {
   "cell_type": "code",
   "execution_count": 36,
   "id": "5577547c",
   "metadata": {},
   "outputs": [
    {
     "data": {
      "text/plain": [
       "(tensor([1., 1., 1., 1.]), tensor(0.))"
      ]
     },
     "execution_count": 36,
     "metadata": {},
     "output_type": "execute_result"
    }
   ],
   "source": [
    "def init_constant(m):\n",
    "    if type(m) == nn.Linear:\n",
    "        nn.init.constant_(m.weight, 1)\n",
    "        nn.init.zeros_(m.bias)\n",
    "        \n",
    "net.apply(init_constant)\n",
    "# This init_constant function is called for all modules in net\n",
    "net[0].weight.data[0], net[0].bias.data[0]"
   ]
  },
  {
   "cell_type": "code",
   "execution_count": 38,
   "id": "1a51c55f",
   "metadata": {},
   "outputs": [
    {
     "name": "stdout",
     "output_type": "stream",
     "text": [
      "tensor([0.3831, 0.1182, 0.3678, 0.1117])\n",
      "tensor([[42., 42., 42., 42., 42., 42., 42., 42.]])\n"
     ]
    }
   ],
   "source": [
    "def xavier(m):\n",
    "    if type(m) == nn.Linear:\n",
    "        nn.init.xavier_uniform_(m.weight)\n",
    "        \n",
    "def init_42(m):\n",
    "    if type(m) == nn.Linear:\n",
    "        nn.init.constant_(m.weight, 42)   # change values to 42\n",
    "        \n",
    "net[0].apply(xavier)\n",
    "net[2].apply(init_42)\n",
    "print(net[0].weight.data[0])\n",
    "print(net[2].weight.data)"
   ]
  },
  {
   "cell_type": "code",
   "execution_count": 40,
   "id": "810f6c87",
   "metadata": {},
   "outputs": [
    {
     "name": "stdout",
     "output_type": "stream",
     "text": [
      "Init weight torch.Size([8, 4])\n",
      "Init weight torch.Size([1, 8])\n"
     ]
    },
    {
     "data": {
      "text/plain": [
       "tensor([[ 0.0000, -0.0000,  5.5751, -0.0000],\n",
       "        [ 8.8137, -8.7283, -0.0000, -0.0000]], grad_fn=<SliceBackward>)"
      ]
     },
     "execution_count": 40,
     "metadata": {},
     "output_type": "execute_result"
    }
   ],
   "source": [
    "def my_init(m):\n",
    "    if type(m) == nn.Linear:\n",
    "        print(\"Init\", *[(name, param.shape) for name, param in m.named_parameters()][0])\n",
    "        nn.init.uniform_(m.weight, -10, 10)\n",
    "        m.weight.data *= m.weight.data.abs() >= 5\n",
    "\n",
    "net.apply(my_init)\n",
    "net[0].weight[:2]\n",
    "        "
   ]
  },
  {
   "cell_type": "code",
   "execution_count": 43,
   "id": "7b3d68d6",
   "metadata": {},
   "outputs": [
    {
     "data": {
      "text/plain": [
       "tensor([42.0000,  3.0000,  8.5751,  3.0000])"
      ]
     },
     "execution_count": 43,
     "metadata": {},
     "output_type": "execute_result"
    }
   ],
   "source": [
    "net[0].weight.data[:] += 1\n",
    "net[0].weight.data[0, 0] = 42\n",
    "net[0].weight.data[0]"
   ]
  },
  {
   "cell_type": "markdown",
   "id": "8f6d5374",
   "metadata": {},
   "source": [
    "### Share Some Parameters like Weights"
   ]
  },
  {
   "cell_type": "code",
   "execution_count": 46,
   "id": "30fce0c5",
   "metadata": {},
   "outputs": [
    {
     "name": "stdout",
     "output_type": "stream",
     "text": [
      "tensor([True, True, True, True, True, True, True, True])\n",
      "tensor([True, True, True, True, True, True, True, True])\n"
     ]
    }
   ],
   "source": [
    "shared = nn.Linear(8, 8)\n",
    "net  = nn.Sequential(nn.Linear(4, 8), nn.ReLU(), shared, nn.ReLU(), shared, \n",
    "                    nn.ReLU(), nn.Linear(8, 1))   \n",
    "# net[2] and net[4] is the same, they use the same address in memory,\n",
    "# when you change one, the other will change as well\n",
    "\n",
    "net(X)\n",
    "print(net[2].weight.data[0] == net[4].weight.data[0])\n",
    "net[2].weight.data[0, 0] = 100\n",
    "print(net[2].weight.data[0] == net[4].weight.data[0])"
   ]
  }
 ],
 "metadata": {
  "kernelspec": {
   "display_name": "Python 3",
   "language": "python",
   "name": "python3"
  },
  "language_info": {
   "codemirror_mode": {
    "name": "ipython",
    "version": 3
   },
   "file_extension": ".py",
   "mimetype": "text/x-python",
   "name": "python",
   "nbconvert_exporter": "python",
   "pygments_lexer": "ipython3",
   "version": "3.6.13"
  }
 },
 "nbformat": 4,
 "nbformat_minor": 5
}
