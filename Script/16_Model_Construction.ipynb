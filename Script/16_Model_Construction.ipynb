{
 "cells": [
  {
   "cell_type": "code",
   "execution_count": 1,
   "id": "55270672",
   "metadata": {},
   "outputs": [],
   "source": [
    "import torch\n",
    "from torch import nn\n",
    "from torch.nn import functional as F"
   ]
  },
  {
   "cell_type": "code",
   "execution_count": 8,
   "id": "7460c742",
   "metadata": {},
   "outputs": [
    {
     "data": {
      "text/plain": [
       "tensor([[ 0.0304, -0.0503,  0.2090,  0.0743,  0.0917,  0.0618,  0.0161, -0.0458,\n",
       "         -0.0473, -0.1317],\n",
       "        [ 0.0849, -0.2394,  0.2086,  0.0476,  0.1281, -0.1442, -0.1103, -0.0591,\n",
       "          0.0496,  0.0169]], grad_fn=<AddmmBackward>)"
      ]
     },
     "execution_count": 8,
     "metadata": {},
     "output_type": "execute_result"
    }
   ],
   "source": [
    "net = nn.Sequential(nn.Linear(20, 256), nn.ReLU(), nn.Linear(256, 10))\n",
    "# nn.Sequential defines a Module\n",
    "X = torch.rand(2, 20)\n",
    "net(X)"
   ]
  },
  {
   "cell_type": "code",
   "execution_count": 14,
   "id": "2eb98530",
   "metadata": {},
   "outputs": [
    {
     "data": {
      "text/plain": [
       "tensor([[ 0.0125,  0.0022,  0.0525, -0.1492, -0.0428, -0.0361, -0.1168,  0.2039,\n",
       "          0.2166, -0.0632],\n",
       "        [-0.0896, -0.1187, -0.0401,  0.0177, -0.1522,  0.0005, -0.0241,  0.1223,\n",
       "          0.2591,  0.0717]], grad_fn=<AddmmBackward>)"
      ]
     },
     "execution_count": 14,
     "metadata": {},
     "output_type": "execute_result"
    }
   ],
   "source": [
    "# define our MLP class which is the son of nn.Module\n",
    "class MyMLP(nn.Module):\n",
    "    def __init__(self):     # __init__ in class defines all parameters we need\n",
    "        super().__init__()                # call all arguments of the parent class\n",
    "        self.hidden = nn.Linear(20, 256)  \n",
    "        self.out = nn.Linear(256, 10)\n",
    "        \n",
    "    def forward(self, X):\n",
    "        return self.out(F.relu(self.hidden(X))) \n",
    "        # input is X -> self.hidden -> F.relu -> self.out\n",
    "        \n",
    "mymlp = MyMLP()\n",
    "mymlp(X)"
   ]
  },
  {
   "cell_type": "code",
   "execution_count": 15,
   "id": "625c70be",
   "metadata": {},
   "outputs": [
    {
     "data": {
      "text/plain": [
       "tensor([[-0.0897,  0.1307,  0.0302, -0.0090,  0.0623, -0.1488,  0.2355, -0.0845,\n",
       "         -0.1221,  0.0340],\n",
       "        [-0.0681,  0.0846,  0.1567,  0.0211,  0.1987, -0.2491,  0.2255, -0.0410,\n",
       "         -0.0958,  0.1452]], grad_fn=<AddmmBackward>)"
      ]
     },
     "execution_count": 15,
     "metadata": {},
     "output_type": "execute_result"
    }
   ],
   "source": [
    "# define our Sequential class which is the son of nn.Module\n",
    "class MySequential(nn.Module):\n",
    "    def __init__(self, *args):    # *args = list of input arguments\n",
    "        super().__init__()         \n",
    "        for block in args:        \n",
    "            self._modules[block] = block   # ._modules is a special container in PyTorch which is an ordered dictionary\n",
    "                    # key is block and value is block as well\n",
    "            \n",
    "    def forward(self, X):\n",
    "        for block in self._modules.values():\n",
    "            X = block(X)\n",
    "        return X\n",
    "    \n",
    "mysequential = MySequential(nn.Linear(20, 256), nn.ReLU(), nn.Linear(256, 10))\n",
    "mysequential(X)"
   ]
  },
  {
   "cell_type": "markdown",
   "id": "c40f8792",
   "metadata": {},
   "source": [
    "### Excute Codes in Forward Prop"
   ]
  },
  {
   "cell_type": "code",
   "execution_count": 19,
   "id": "d01ef2bd",
   "metadata": {},
   "outputs": [
    {
     "data": {
      "text/plain": [
       "tensor(-0.2447, grad_fn=<SumBackward0>)"
      ]
     },
     "execution_count": 19,
     "metadata": {},
     "output_type": "execute_result"
    }
   ],
   "source": [
    "class FixedHiddenMLP(nn.Module):\n",
    "    def __init__(self):\n",
    "        super().__init__()\n",
    "        self.rand_weight = torch.rand((20, 20), requires_grad = False)   \n",
    "                        # use torch.rand to create random weights, which are not needed to train\n",
    "        self.linear = nn.Linear(20, 20)\n",
    "        \n",
    "    def forward(self, X):\n",
    "        X = self.linear(X)\n",
    "        X = F.relu(torch.mm(X, self.rand_weight) + 1)   # .mm only for 2D matrix multiplication \n",
    "        X = self.linear(X)\n",
    "        while X.abs().sum() > 1:  # if the sum of the absolute values of X is greater than 1, X will become half\n",
    "            X /= 2\n",
    "        return X.sum()\n",
    "    \n",
    "fixedhiddenmlp = FixedHiddenMLP()\n",
    "fixedhiddenmlp(X)"
   ]
  },
  {
   "cell_type": "markdown",
   "id": "246ad261",
   "metadata": {},
   "source": [
    "### Mix and Match Custom Modules and Existing Modules"
   ]
  },
  {
   "cell_type": "code",
   "execution_count": 22,
   "id": "10cf173a",
   "metadata": {},
   "outputs": [
    {
     "data": {
      "text/plain": [
       "tensor(-0.0290, grad_fn=<SumBackward0>)"
      ]
     },
     "execution_count": 22,
     "metadata": {},
     "output_type": "execute_result"
    }
   ],
   "source": [
    "class NestMLP(nn.Module):\n",
    "    def __init__(self):\n",
    "        super().__init__()\n",
    "        self.net = nn.Sequential(nn.Linear(20, 64), nn.ReLU(),\n",
    "                                nn.Linear(64, 32), nn.ReLU())\n",
    "        self.linear = nn.Linear(32, 16)\n",
    "        \n",
    "    def forward(self, X):\n",
    "        return self.linear(self.net(X))\n",
    "    \n",
    "chimera = nn.Sequential(NestMLP(), nn.Linear(16, 20), FixedHiddenMLP())\n",
    "chimera(X)"
   ]
  },
  {
   "cell_type": "code",
   "execution_count": null,
   "id": "34ef0e93",
   "metadata": {},
   "outputs": [],
   "source": []
  }
 ],
 "metadata": {
  "kernelspec": {
   "display_name": "Python 3",
   "language": "python",
   "name": "python3"
  },
  "language_info": {
   "codemirror_mode": {
    "name": "ipython",
    "version": 3
   },
   "file_extension": ".py",
   "mimetype": "text/x-python",
   "name": "python",
   "nbconvert_exporter": "python",
   "pygments_lexer": "ipython3",
   "version": "3.6.13"
  }
 },
 "nbformat": 4,
 "nbformat_minor": 5
}
